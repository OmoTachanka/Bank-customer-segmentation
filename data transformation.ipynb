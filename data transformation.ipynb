{
 "cells": [
  {
   "cell_type": "markdown",
   "id": "3b5961c1",
   "metadata": {},
   "source": [
    "## DATA CLEANING"
   ]
  },
  {
   "cell_type": "code",
   "execution_count": 1,
   "id": "179fa24b",
   "metadata": {},
   "outputs": [],
   "source": [
    "import numpy as np\n",
    "import pandas as pd \n",
    "import warnings"
   ]
  },
  {
   "cell_type": "code",
   "execution_count": 6,
   "id": "d62f5ab8",
   "metadata": {},
   "outputs": [],
   "source": [
    "df = pd.read_csv('DATA/bank_transactions.csv')"
   ]
  },
  {
   "cell_type": "code",
   "execution_count": 7,
   "id": "e66c6f0c",
   "metadata": {},
   "outputs": [
    {
     "data": {
      "text/html": [
       "<div>\n",
       "<style scoped>\n",
       "    .dataframe tbody tr th:only-of-type {\n",
       "        vertical-align: middle;\n",
       "    }\n",
       "\n",
       "    .dataframe tbody tr th {\n",
       "        vertical-align: top;\n",
       "    }\n",
       "\n",
       "    .dataframe thead th {\n",
       "        text-align: right;\n",
       "    }\n",
       "</style>\n",
       "<table border=\"1\" class=\"dataframe\">\n",
       "  <thead>\n",
       "    <tr style=\"text-align: right;\">\n",
       "      <th></th>\n",
       "      <th>TransactionID</th>\n",
       "      <th>CustomerID</th>\n",
       "      <th>CustomerDOB</th>\n",
       "      <th>CustGender</th>\n",
       "      <th>CustLocation</th>\n",
       "      <th>CustAccountBalance</th>\n",
       "      <th>TransactionDate</th>\n",
       "      <th>TransactionTime</th>\n",
       "      <th>TransactionAmount (INR)</th>\n",
       "    </tr>\n",
       "  </thead>\n",
       "  <tbody>\n",
       "    <tr>\n",
       "      <th>0</th>\n",
       "      <td>T1</td>\n",
       "      <td>C5841053</td>\n",
       "      <td>10/1/94</td>\n",
       "      <td>F</td>\n",
       "      <td>JAMSHEDPUR</td>\n",
       "      <td>17819.05</td>\n",
       "      <td>2/8/16</td>\n",
       "      <td>143207</td>\n",
       "      <td>25.0</td>\n",
       "    </tr>\n",
       "    <tr>\n",
       "      <th>1</th>\n",
       "      <td>T2</td>\n",
       "      <td>C2142763</td>\n",
       "      <td>4/4/57</td>\n",
       "      <td>M</td>\n",
       "      <td>JHAJJAR</td>\n",
       "      <td>2270.69</td>\n",
       "      <td>2/8/16</td>\n",
       "      <td>141858</td>\n",
       "      <td>27999.0</td>\n",
       "    </tr>\n",
       "    <tr>\n",
       "      <th>2</th>\n",
       "      <td>T3</td>\n",
       "      <td>C4417068</td>\n",
       "      <td>26/11/96</td>\n",
       "      <td>F</td>\n",
       "      <td>MUMBAI</td>\n",
       "      <td>17874.44</td>\n",
       "      <td>2/8/16</td>\n",
       "      <td>142712</td>\n",
       "      <td>459.0</td>\n",
       "    </tr>\n",
       "    <tr>\n",
       "      <th>3</th>\n",
       "      <td>T4</td>\n",
       "      <td>C5342380</td>\n",
       "      <td>14/9/73</td>\n",
       "      <td>F</td>\n",
       "      <td>MUMBAI</td>\n",
       "      <td>866503.21</td>\n",
       "      <td>2/8/16</td>\n",
       "      <td>142714</td>\n",
       "      <td>2060.0</td>\n",
       "    </tr>\n",
       "    <tr>\n",
       "      <th>4</th>\n",
       "      <td>T5</td>\n",
       "      <td>C9031234</td>\n",
       "      <td>24/3/88</td>\n",
       "      <td>F</td>\n",
       "      <td>NAVI MUMBAI</td>\n",
       "      <td>6714.43</td>\n",
       "      <td>2/8/16</td>\n",
       "      <td>181156</td>\n",
       "      <td>1762.5</td>\n",
       "    </tr>\n",
       "  </tbody>\n",
       "</table>\n",
       "</div>"
      ],
      "text/plain": [
       "  TransactionID CustomerID CustomerDOB CustGender CustLocation  \\\n",
       "0            T1   C5841053     10/1/94          F   JAMSHEDPUR   \n",
       "1            T2   C2142763      4/4/57          M      JHAJJAR   \n",
       "2            T3   C4417068    26/11/96          F       MUMBAI   \n",
       "3            T4   C5342380     14/9/73          F       MUMBAI   \n",
       "4            T5   C9031234     24/3/88          F  NAVI MUMBAI   \n",
       "\n",
       "   CustAccountBalance TransactionDate  TransactionTime  \\\n",
       "0            17819.05          2/8/16           143207   \n",
       "1             2270.69          2/8/16           141858   \n",
       "2            17874.44          2/8/16           142712   \n",
       "3           866503.21          2/8/16           142714   \n",
       "4             6714.43          2/8/16           181156   \n",
       "\n",
       "   TransactionAmount (INR)  \n",
       "0                     25.0  \n",
       "1                  27999.0  \n",
       "2                    459.0  \n",
       "3                   2060.0  \n",
       "4                   1762.5  "
      ]
     },
     "execution_count": 7,
     "metadata": {},
     "output_type": "execute_result"
    }
   ],
   "source": [
    "df.head()"
   ]
  },
  {
   "cell_type": "code",
   "execution_count": 8,
   "id": "d4763d81",
   "metadata": {},
   "outputs": [],
   "source": [
    "df=df.drop(['TransactionID'],axis=1)"
   ]
  },
  {
   "cell_type": "code",
   "execution_count": 9,
   "id": "3db04086",
   "metadata": {},
   "outputs": [],
   "source": [
    "def loc(x):\n",
    "    if x=='NAVI MUMBAI':\n",
    "        return 'MUMBAI'\n",
    "    elif x=='NEW DELHI':\n",
    "        return 'DELHI'\n",
    "    return x"
   ]
  },
  {
   "cell_type": "code",
   "execution_count": 10,
   "id": "ce0710a8",
   "metadata": {},
   "outputs": [],
   "source": [
    "df['CustLocation'] = df['CustLocation'].apply(lambda x:loc(x))"
   ]
  },
  {
   "cell_type": "code",
   "execution_count": 11,
   "id": "df309efc",
   "metadata": {},
   "outputs": [
    {
     "data": {
      "text/plain": [
       "CustomerID                    0\n",
       "CustomerDOB                3397\n",
       "CustGender                 1100\n",
       "CustLocation                151\n",
       "CustAccountBalance         2369\n",
       "TransactionDate               0\n",
       "TransactionTime               0\n",
       "TransactionAmount (INR)       0\n",
       "dtype: int64"
      ]
     },
     "execution_count": 11,
     "metadata": {},
     "output_type": "execute_result"
    }
   ],
   "source": [
    "df.isnull().sum()"
   ]
  },
  {
   "cell_type": "code",
   "execution_count": 12,
   "id": "5e09d94b",
   "metadata": {},
   "outputs": [],
   "source": [
    "df = df.dropna()"
   ]
  },
  {
   "cell_type": "code",
   "execution_count": 13,
   "id": "d1dd729d",
   "metadata": {},
   "outputs": [
    {
     "data": {
      "text/plain": [
       "CustomerID                 0\n",
       "CustomerDOB                0\n",
       "CustGender                 0\n",
       "CustLocation               0\n",
       "CustAccountBalance         0\n",
       "TransactionDate            0\n",
       "TransactionTime            0\n",
       "TransactionAmount (INR)    0\n",
       "dtype: int64"
      ]
     },
     "execution_count": 13,
     "metadata": {},
     "output_type": "execute_result"
    }
   ],
   "source": [
    "df.isnull().sum()"
   ]
  },
  {
   "cell_type": "code",
   "execution_count": 16,
   "id": "30591b5b",
   "metadata": {},
   "outputs": [
    {
     "data": {
      "text/plain": [
       "1/1/1800    56292\n",
       "1/1/89        809\n",
       "1/1/90        784\n",
       "6/8/91        698\n",
       "1/1/91        665\n",
       "            ...  \n",
       "19/7/06         1\n",
       "21/11/42        1\n",
       "20/11/54        1\n",
       "9/3/71          1\n",
       "13/10/42        1\n",
       "Name: CustomerDOB, Length: 17233, dtype: int64"
      ]
     },
     "execution_count": 16,
     "metadata": {},
     "output_type": "execute_result"
    }
   ],
   "source": [
    "df['CustomerDOB'].value_counts()"
   ]
  },
  {
   "cell_type": "code",
   "execution_count": 17,
   "id": "f94824e3",
   "metadata": {},
   "outputs": [],
   "source": [
    "df = df.loc[~(df['CustomerDOB']=='1/1/1800')]"
   ]
  },
  {
   "cell_type": "code",
   "execution_count": 18,
   "id": "53bd0a82",
   "metadata": {},
   "outputs": [
    {
     "data": {
      "text/plain": [
       "1/1/89      809\n",
       "1/1/90      784\n",
       "6/8/91      698\n",
       "1/1/91      665\n",
       "1/1/92      631\n",
       "           ... \n",
       "18/1/58       1\n",
       "3/9/60        1\n",
       "28/7/03       1\n",
       "10/7/54       1\n",
       "23/10/68      1\n",
       "Name: CustomerDOB, Length: 17232, dtype: int64"
      ]
     },
     "execution_count": 18,
     "metadata": {},
     "output_type": "execute_result"
    }
   ],
   "source": [
    "df['CustomerDOB'].value_counts()"
   ]
  },
  {
   "cell_type": "code",
   "execution_count": 19,
   "id": "5a15e8d7",
   "metadata": {},
   "outputs": [],
   "source": [
    "df['TransactionDate'] = pd.to_datetime(df['TransactionDate'], format = '%d/%m/%y')\n",
    "df['CustomerDOB'] = pd.to_datetime(df['CustomerDOB'])"
   ]
  },
  {
   "cell_type": "code",
   "execution_count": 20,
   "id": "4d0bdea2",
   "metadata": {},
   "outputs": [
    {
     "data": {
      "text/html": [
       "<div>\n",
       "<style scoped>\n",
       "    .dataframe tbody tr th:only-of-type {\n",
       "        vertical-align: middle;\n",
       "    }\n",
       "\n",
       "    .dataframe tbody tr th {\n",
       "        vertical-align: top;\n",
       "    }\n",
       "\n",
       "    .dataframe thead th {\n",
       "        text-align: right;\n",
       "    }\n",
       "</style>\n",
       "<table border=\"1\" class=\"dataframe\">\n",
       "  <thead>\n",
       "    <tr style=\"text-align: right;\">\n",
       "      <th></th>\n",
       "      <th>CustomerID</th>\n",
       "      <th>CustomerDOB</th>\n",
       "      <th>CustGender</th>\n",
       "      <th>CustLocation</th>\n",
       "      <th>CustAccountBalance</th>\n",
       "      <th>TransactionDate</th>\n",
       "      <th>TransactionTime</th>\n",
       "      <th>TransactionAmount (INR)</th>\n",
       "    </tr>\n",
       "  </thead>\n",
       "  <tbody>\n",
       "    <tr>\n",
       "      <th>0</th>\n",
       "      <td>C5841053</td>\n",
       "      <td>1994-10-01</td>\n",
       "      <td>F</td>\n",
       "      <td>JAMSHEDPUR</td>\n",
       "      <td>17819.05</td>\n",
       "      <td>2016-08-02</td>\n",
       "      <td>143207</td>\n",
       "      <td>25.0</td>\n",
       "    </tr>\n",
       "    <tr>\n",
       "      <th>1</th>\n",
       "      <td>C2142763</td>\n",
       "      <td>2057-04-04</td>\n",
       "      <td>M</td>\n",
       "      <td>JHAJJAR</td>\n",
       "      <td>2270.69</td>\n",
       "      <td>2016-08-02</td>\n",
       "      <td>141858</td>\n",
       "      <td>27999.0</td>\n",
       "    </tr>\n",
       "    <tr>\n",
       "      <th>2</th>\n",
       "      <td>C4417068</td>\n",
       "      <td>1996-11-26</td>\n",
       "      <td>F</td>\n",
       "      <td>MUMBAI</td>\n",
       "      <td>17874.44</td>\n",
       "      <td>2016-08-02</td>\n",
       "      <td>142712</td>\n",
       "      <td>459.0</td>\n",
       "    </tr>\n",
       "    <tr>\n",
       "      <th>3</th>\n",
       "      <td>C5342380</td>\n",
       "      <td>1973-09-14</td>\n",
       "      <td>F</td>\n",
       "      <td>MUMBAI</td>\n",
       "      <td>866503.21</td>\n",
       "      <td>2016-08-02</td>\n",
       "      <td>142714</td>\n",
       "      <td>2060.0</td>\n",
       "    </tr>\n",
       "    <tr>\n",
       "      <th>4</th>\n",
       "      <td>C9031234</td>\n",
       "      <td>1988-03-24</td>\n",
       "      <td>F</td>\n",
       "      <td>MUMBAI</td>\n",
       "      <td>6714.43</td>\n",
       "      <td>2016-08-02</td>\n",
       "      <td>181156</td>\n",
       "      <td>1762.5</td>\n",
       "    </tr>\n",
       "  </tbody>\n",
       "</table>\n",
       "</div>"
      ],
      "text/plain": [
       "  CustomerID CustomerDOB CustGender CustLocation  CustAccountBalance  \\\n",
       "0   C5841053  1994-10-01          F   JAMSHEDPUR            17819.05   \n",
       "1   C2142763  2057-04-04          M      JHAJJAR             2270.69   \n",
       "2   C4417068  1996-11-26          F       MUMBAI            17874.44   \n",
       "3   C5342380  1973-09-14          F       MUMBAI           866503.21   \n",
       "4   C9031234  1988-03-24          F       MUMBAI             6714.43   \n",
       "\n",
       "  TransactionDate  TransactionTime  TransactionAmount (INR)  \n",
       "0      2016-08-02           143207                     25.0  \n",
       "1      2016-08-02           141858                  27999.0  \n",
       "2      2016-08-02           142712                    459.0  \n",
       "3      2016-08-02           142714                   2060.0  \n",
       "4      2016-08-02           181156                   1762.5  "
      ]
     },
     "execution_count": 20,
     "metadata": {},
     "output_type": "execute_result"
    }
   ],
   "source": [
    "df.head()"
   ]
  },
  {
   "cell_type": "code",
   "execution_count": 22,
   "id": "df7f475c",
   "metadata": {},
   "outputs": [],
   "source": [
    "df.loc[df['CustomerDOB'].dt.year >= 2021, ['CustomerDOB']] -= pd.DateOffset(years = 100)\n",
    "df['CustomerAge'] = (pd.to_datetime('today') - df['CustomerDOB'])/np.timedelta64(1, 'Y')"
   ]
  },
  {
   "cell_type": "code",
   "execution_count": 23,
   "id": "8685068c",
   "metadata": {},
   "outputs": [],
   "source": [
    "df = df.rename(columns={'TransactionAmount(INR)':'TransactionAmount'})"
   ]
  },
  {
   "cell_type": "code",
   "execution_count": 24,
   "id": "bbb01b85",
   "metadata": {},
   "outputs": [],
   "source": [
    "df = df.astype({'CustomerAge':int})"
   ]
  },
  {
   "cell_type": "code",
   "execution_count": 25,
   "id": "e2156bb0",
   "metadata": {},
   "outputs": [
    {
     "data": {
      "text/html": [
       "<div>\n",
       "<style scoped>\n",
       "    .dataframe tbody tr th:only-of-type {\n",
       "        vertical-align: middle;\n",
       "    }\n",
       "\n",
       "    .dataframe tbody tr th {\n",
       "        vertical-align: top;\n",
       "    }\n",
       "\n",
       "    .dataframe thead th {\n",
       "        text-align: right;\n",
       "    }\n",
       "</style>\n",
       "<table border=\"1\" class=\"dataframe\">\n",
       "  <thead>\n",
       "    <tr style=\"text-align: right;\">\n",
       "      <th></th>\n",
       "      <th>CustomerID</th>\n",
       "      <th>CustomerDOB</th>\n",
       "      <th>CustGender</th>\n",
       "      <th>CustLocation</th>\n",
       "      <th>CustAccountBalance</th>\n",
       "      <th>TransactionDate</th>\n",
       "      <th>TransactionTime</th>\n",
       "      <th>TransactionAmount (INR)</th>\n",
       "      <th>CustomerAge</th>\n",
       "    </tr>\n",
       "  </thead>\n",
       "  <tbody>\n",
       "    <tr>\n",
       "      <th>0</th>\n",
       "      <td>C5841053</td>\n",
       "      <td>1994-10-01</td>\n",
       "      <td>F</td>\n",
       "      <td>JAMSHEDPUR</td>\n",
       "      <td>17819.05</td>\n",
       "      <td>2016-08-02</td>\n",
       "      <td>143207</td>\n",
       "      <td>25.0</td>\n",
       "      <td>27</td>\n",
       "    </tr>\n",
       "    <tr>\n",
       "      <th>1</th>\n",
       "      <td>C2142763</td>\n",
       "      <td>1957-04-04</td>\n",
       "      <td>M</td>\n",
       "      <td>JHAJJAR</td>\n",
       "      <td>2270.69</td>\n",
       "      <td>2016-08-02</td>\n",
       "      <td>141858</td>\n",
       "      <td>27999.0</td>\n",
       "      <td>64</td>\n",
       "    </tr>\n",
       "    <tr>\n",
       "      <th>2</th>\n",
       "      <td>C4417068</td>\n",
       "      <td>1996-11-26</td>\n",
       "      <td>F</td>\n",
       "      <td>MUMBAI</td>\n",
       "      <td>17874.44</td>\n",
       "      <td>2016-08-02</td>\n",
       "      <td>142712</td>\n",
       "      <td>459.0</td>\n",
       "      <td>25</td>\n",
       "    </tr>\n",
       "    <tr>\n",
       "      <th>3</th>\n",
       "      <td>C5342380</td>\n",
       "      <td>1973-09-14</td>\n",
       "      <td>F</td>\n",
       "      <td>MUMBAI</td>\n",
       "      <td>866503.21</td>\n",
       "      <td>2016-08-02</td>\n",
       "      <td>142714</td>\n",
       "      <td>2060.0</td>\n",
       "      <td>48</td>\n",
       "    </tr>\n",
       "    <tr>\n",
       "      <th>4</th>\n",
       "      <td>C9031234</td>\n",
       "      <td>1988-03-24</td>\n",
       "      <td>F</td>\n",
       "      <td>MUMBAI</td>\n",
       "      <td>6714.43</td>\n",
       "      <td>2016-08-02</td>\n",
       "      <td>181156</td>\n",
       "      <td>1762.5</td>\n",
       "      <td>33</td>\n",
       "    </tr>\n",
       "  </tbody>\n",
       "</table>\n",
       "</div>"
      ],
      "text/plain": [
       "  CustomerID CustomerDOB CustGender CustLocation  CustAccountBalance  \\\n",
       "0   C5841053  1994-10-01          F   JAMSHEDPUR            17819.05   \n",
       "1   C2142763  1957-04-04          M      JHAJJAR             2270.69   \n",
       "2   C4417068  1996-11-26          F       MUMBAI            17874.44   \n",
       "3   C5342380  1973-09-14          F       MUMBAI           866503.21   \n",
       "4   C9031234  1988-03-24          F       MUMBAI             6714.43   \n",
       "\n",
       "  TransactionDate  TransactionTime  TransactionAmount (INR)  CustomerAge  \n",
       "0      2016-08-02           143207                     25.0           27  \n",
       "1      2016-08-02           141858                  27999.0           64  \n",
       "2      2016-08-02           142712                    459.0           25  \n",
       "3      2016-08-02           142714                   2060.0           48  \n",
       "4      2016-08-02           181156                   1762.5           33  "
      ]
     },
     "execution_count": 25,
     "metadata": {},
     "output_type": "execute_result"
    }
   ],
   "source": [
    "df.head()"
   ]
  },
  {
   "cell_type": "code",
   "execution_count": 29,
   "id": "41e68b25",
   "metadata": {},
   "outputs": [],
   "source": [
    "df['TransactionYear'] = 2016*np.ones(len(df),dtype=int)"
   ]
  },
  {
   "cell_type": "code",
   "execution_count": 31,
   "id": "5e28a237",
   "metadata": {},
   "outputs": [],
   "source": [
    "df['TransactionMonth'] = df['TransactionDate'].dt.month"
   ]
  },
  {
   "cell_type": "markdown",
   "id": "8ddf1a19",
   "metadata": {},
   "source": [
    "## DATA TRANSFORMATION"
   ]
  },
  {
   "cell_type": "code",
   "execution_count": 32,
   "id": "63ae457d",
   "metadata": {},
   "outputs": [
    {
     "data": {
      "text/html": [
       "<div>\n",
       "<style scoped>\n",
       "    .dataframe tbody tr th:only-of-type {\n",
       "        vertical-align: middle;\n",
       "    }\n",
       "\n",
       "    .dataframe tbody tr th {\n",
       "        vertical-align: top;\n",
       "    }\n",
       "\n",
       "    .dataframe thead th {\n",
       "        text-align: right;\n",
       "    }\n",
       "</style>\n",
       "<table border=\"1\" class=\"dataframe\">\n",
       "  <thead>\n",
       "    <tr style=\"text-align: right;\">\n",
       "      <th></th>\n",
       "      <th>CustomerID</th>\n",
       "      <th>CustomerDOB</th>\n",
       "      <th>CustGender</th>\n",
       "      <th>CustLocation</th>\n",
       "      <th>CustAccountBalance</th>\n",
       "      <th>TransactionDate</th>\n",
       "      <th>TransactionTime</th>\n",
       "      <th>TransactionAmount (INR)</th>\n",
       "      <th>CustomerAge</th>\n",
       "      <th>TransactionYear</th>\n",
       "      <th>TransactionMonth</th>\n",
       "    </tr>\n",
       "  </thead>\n",
       "  <tbody>\n",
       "    <tr>\n",
       "      <th>0</th>\n",
       "      <td>C5841053</td>\n",
       "      <td>1994-10-01</td>\n",
       "      <td>F</td>\n",
       "      <td>JAMSHEDPUR</td>\n",
       "      <td>17819.05</td>\n",
       "      <td>2016-08-02</td>\n",
       "      <td>143207</td>\n",
       "      <td>25.0</td>\n",
       "      <td>27</td>\n",
       "      <td>2016</td>\n",
       "      <td>8</td>\n",
       "    </tr>\n",
       "    <tr>\n",
       "      <th>1</th>\n",
       "      <td>C2142763</td>\n",
       "      <td>1957-04-04</td>\n",
       "      <td>M</td>\n",
       "      <td>JHAJJAR</td>\n",
       "      <td>2270.69</td>\n",
       "      <td>2016-08-02</td>\n",
       "      <td>141858</td>\n",
       "      <td>27999.0</td>\n",
       "      <td>64</td>\n",
       "      <td>2016</td>\n",
       "      <td>8</td>\n",
       "    </tr>\n",
       "    <tr>\n",
       "      <th>2</th>\n",
       "      <td>C4417068</td>\n",
       "      <td>1996-11-26</td>\n",
       "      <td>F</td>\n",
       "      <td>MUMBAI</td>\n",
       "      <td>17874.44</td>\n",
       "      <td>2016-08-02</td>\n",
       "      <td>142712</td>\n",
       "      <td>459.0</td>\n",
       "      <td>25</td>\n",
       "      <td>2016</td>\n",
       "      <td>8</td>\n",
       "    </tr>\n",
       "    <tr>\n",
       "      <th>3</th>\n",
       "      <td>C5342380</td>\n",
       "      <td>1973-09-14</td>\n",
       "      <td>F</td>\n",
       "      <td>MUMBAI</td>\n",
       "      <td>866503.21</td>\n",
       "      <td>2016-08-02</td>\n",
       "      <td>142714</td>\n",
       "      <td>2060.0</td>\n",
       "      <td>48</td>\n",
       "      <td>2016</td>\n",
       "      <td>8</td>\n",
       "    </tr>\n",
       "    <tr>\n",
       "      <th>4</th>\n",
       "      <td>C9031234</td>\n",
       "      <td>1988-03-24</td>\n",
       "      <td>F</td>\n",
       "      <td>MUMBAI</td>\n",
       "      <td>6714.43</td>\n",
       "      <td>2016-08-02</td>\n",
       "      <td>181156</td>\n",
       "      <td>1762.5</td>\n",
       "      <td>33</td>\n",
       "      <td>2016</td>\n",
       "      <td>8</td>\n",
       "    </tr>\n",
       "  </tbody>\n",
       "</table>\n",
       "</div>"
      ],
      "text/plain": [
       "  CustomerID CustomerDOB CustGender CustLocation  CustAccountBalance  \\\n",
       "0   C5841053  1994-10-01          F   JAMSHEDPUR            17819.05   \n",
       "1   C2142763  1957-04-04          M      JHAJJAR             2270.69   \n",
       "2   C4417068  1996-11-26          F       MUMBAI            17874.44   \n",
       "3   C5342380  1973-09-14          F       MUMBAI           866503.21   \n",
       "4   C9031234  1988-03-24          F       MUMBAI             6714.43   \n",
       "\n",
       "  TransactionDate  TransactionTime  TransactionAmount (INR)  CustomerAge  \\\n",
       "0      2016-08-02           143207                     25.0           27   \n",
       "1      2016-08-02           141858                  27999.0           64   \n",
       "2      2016-08-02           142712                    459.0           25   \n",
       "3      2016-08-02           142714                   2060.0           48   \n",
       "4      2016-08-02           181156                   1762.5           33   \n",
       "\n",
       "   TransactionYear  TransactionMonth  \n",
       "0             2016                 8  \n",
       "1             2016                 8  \n",
       "2             2016                 8  \n",
       "3             2016                 8  \n",
       "4             2016                 8  "
      ]
     },
     "execution_count": 32,
     "metadata": {},
     "output_type": "execute_result"
    }
   ],
   "source": [
    "df.head()"
   ]
  },
  {
   "cell_type": "markdown",
   "id": "85d3e02f",
   "metadata": {},
   "source": [
    "## ONE-HOT ENCODING FOR GENDER CATEGORY"
   ]
  },
  {
   "cell_type": "code",
   "execution_count": 33,
   "id": "62942cec",
   "metadata": {},
   "outputs": [
    {
     "data": {
      "text/plain": [
       "array(['F', 'M'], dtype=object)"
      ]
     },
     "execution_count": 33,
     "metadata": {},
     "output_type": "execute_result"
    }
   ],
   "source": [
    "df['CustGender'].unique()"
   ]
  },
  {
   "cell_type": "code",
   "execution_count": 34,
   "id": "0eb3e2d8",
   "metadata": {},
   "outputs": [],
   "source": [
    "gend_df = pd.get_dummies(df['CustGender'],drop_first=True)"
   ]
  },
  {
   "cell_type": "code",
   "execution_count": 37,
   "id": "a6b1d8e4",
   "metadata": {},
   "outputs": [],
   "source": [
    "df = pd.concat([df.drop('CustGender',axis=1),gend_df],axis=1)"
   ]
  },
  {
   "cell_type": "markdown",
   "id": "59253744",
   "metadata": {},
   "source": [
    "## HOUR AND MINUTE OF TRANSACTION"
   ]
  },
  {
   "cell_type": "code",
   "execution_count": 102,
   "id": "2e7816d7",
   "metadata": {},
   "outputs": [],
   "source": [
    "def trans_hr(x):\n",
    "    return int(x/10000)\n",
    "def trans_min(x):\n",
    "    return int((x%10000)/100)"
   ]
  },
  {
   "cell_type": "code",
   "execution_count": 40,
   "id": "65b89962",
   "metadata": {},
   "outputs": [],
   "source": [
    "df['TransactionTime(hr)'] = df['TransactionTime'].apply(lambda x:trans_hr(x))\n",
    "df['TransactionTime(min)'] = df['TransactionTime'].apply(lambda x:trans_min(x))"
   ]
  },
  {
   "cell_type": "code",
   "execution_count": 41,
   "id": "67488b69",
   "metadata": {},
   "outputs": [
    {
     "data": {
      "text/html": [
       "<div>\n",
       "<style scoped>\n",
       "    .dataframe tbody tr th:only-of-type {\n",
       "        vertical-align: middle;\n",
       "    }\n",
       "\n",
       "    .dataframe tbody tr th {\n",
       "        vertical-align: top;\n",
       "    }\n",
       "\n",
       "    .dataframe thead th {\n",
       "        text-align: right;\n",
       "    }\n",
       "</style>\n",
       "<table border=\"1\" class=\"dataframe\">\n",
       "  <thead>\n",
       "    <tr style=\"text-align: right;\">\n",
       "      <th></th>\n",
       "      <th>CustomerID</th>\n",
       "      <th>CustomerDOB</th>\n",
       "      <th>CustLocation</th>\n",
       "      <th>CustAccountBalance</th>\n",
       "      <th>TransactionDate</th>\n",
       "      <th>TransactionTime</th>\n",
       "      <th>TransactionAmount (INR)</th>\n",
       "      <th>CustomerAge</th>\n",
       "      <th>TransactionYear</th>\n",
       "      <th>TransactionMonth</th>\n",
       "      <th>M</th>\n",
       "      <th>TransactionTime(hr)</th>\n",
       "      <th>TransactionTime(min)</th>\n",
       "    </tr>\n",
       "  </thead>\n",
       "  <tbody>\n",
       "    <tr>\n",
       "      <th>0</th>\n",
       "      <td>C5841053</td>\n",
       "      <td>1994-10-01</td>\n",
       "      <td>JAMSHEDPUR</td>\n",
       "      <td>17819.05</td>\n",
       "      <td>2016-08-02</td>\n",
       "      <td>143207</td>\n",
       "      <td>25.0</td>\n",
       "      <td>27</td>\n",
       "      <td>2016</td>\n",
       "      <td>8</td>\n",
       "      <td>0</td>\n",
       "      <td>14</td>\n",
       "      <td>32</td>\n",
       "    </tr>\n",
       "    <tr>\n",
       "      <th>1</th>\n",
       "      <td>C2142763</td>\n",
       "      <td>1957-04-04</td>\n",
       "      <td>JHAJJAR</td>\n",
       "      <td>2270.69</td>\n",
       "      <td>2016-08-02</td>\n",
       "      <td>141858</td>\n",
       "      <td>27999.0</td>\n",
       "      <td>64</td>\n",
       "      <td>2016</td>\n",
       "      <td>8</td>\n",
       "      <td>1</td>\n",
       "      <td>14</td>\n",
       "      <td>18</td>\n",
       "    </tr>\n",
       "    <tr>\n",
       "      <th>2</th>\n",
       "      <td>C4417068</td>\n",
       "      <td>1996-11-26</td>\n",
       "      <td>MUMBAI</td>\n",
       "      <td>17874.44</td>\n",
       "      <td>2016-08-02</td>\n",
       "      <td>142712</td>\n",
       "      <td>459.0</td>\n",
       "      <td>25</td>\n",
       "      <td>2016</td>\n",
       "      <td>8</td>\n",
       "      <td>0</td>\n",
       "      <td>14</td>\n",
       "      <td>27</td>\n",
       "    </tr>\n",
       "    <tr>\n",
       "      <th>3</th>\n",
       "      <td>C5342380</td>\n",
       "      <td>1973-09-14</td>\n",
       "      <td>MUMBAI</td>\n",
       "      <td>866503.21</td>\n",
       "      <td>2016-08-02</td>\n",
       "      <td>142714</td>\n",
       "      <td>2060.0</td>\n",
       "      <td>48</td>\n",
       "      <td>2016</td>\n",
       "      <td>8</td>\n",
       "      <td>0</td>\n",
       "      <td>14</td>\n",
       "      <td>27</td>\n",
       "    </tr>\n",
       "    <tr>\n",
       "      <th>4</th>\n",
       "      <td>C9031234</td>\n",
       "      <td>1988-03-24</td>\n",
       "      <td>MUMBAI</td>\n",
       "      <td>6714.43</td>\n",
       "      <td>2016-08-02</td>\n",
       "      <td>181156</td>\n",
       "      <td>1762.5</td>\n",
       "      <td>33</td>\n",
       "      <td>2016</td>\n",
       "      <td>8</td>\n",
       "      <td>0</td>\n",
       "      <td>18</td>\n",
       "      <td>11</td>\n",
       "    </tr>\n",
       "  </tbody>\n",
       "</table>\n",
       "</div>"
      ],
      "text/plain": [
       "  CustomerID CustomerDOB CustLocation  CustAccountBalance TransactionDate  \\\n",
       "0   C5841053  1994-10-01   JAMSHEDPUR            17819.05      2016-08-02   \n",
       "1   C2142763  1957-04-04      JHAJJAR             2270.69      2016-08-02   \n",
       "2   C4417068  1996-11-26       MUMBAI            17874.44      2016-08-02   \n",
       "3   C5342380  1973-09-14       MUMBAI           866503.21      2016-08-02   \n",
       "4   C9031234  1988-03-24       MUMBAI             6714.43      2016-08-02   \n",
       "\n",
       "   TransactionTime  TransactionAmount (INR)  CustomerAge  TransactionYear  \\\n",
       "0           143207                     25.0           27             2016   \n",
       "1           141858                  27999.0           64             2016   \n",
       "2           142712                    459.0           25             2016   \n",
       "3           142714                   2060.0           48             2016   \n",
       "4           181156                   1762.5           33             2016   \n",
       "\n",
       "   TransactionMonth  M  TransactionTime(hr)  TransactionTime(min)  \n",
       "0                 8  0                   14                    32  \n",
       "1                 8  1                   14                    18  \n",
       "2                 8  0                   14                    27  \n",
       "3                 8  0                   14                    27  \n",
       "4                 8  0                   18                    11  "
      ]
     },
     "execution_count": 41,
     "metadata": {},
     "output_type": "execute_result"
    }
   ],
   "source": [
    "df.head()"
   ]
  },
  {
   "cell_type": "code",
   "execution_count": 43,
   "id": "0584befd",
   "metadata": {},
   "outputs": [],
   "source": [
    "df.drop('TransactionTime',inplace=True,axis=1)"
   ]
  },
  {
   "cell_type": "markdown",
   "id": "9503c694",
   "metadata": {},
   "source": [
    "## DIVIDING CUSTOMER AGE INTO CATEGORIES"
   ]
  },
  {
   "cell_type": "code",
   "execution_count": 44,
   "id": "511784d7",
   "metadata": {},
   "outputs": [
    {
     "data": {
      "text/plain": [
       "(100, 1)"
      ]
     },
     "execution_count": 44,
     "metadata": {},
     "output_type": "execute_result"
    }
   ],
   "source": [
    "df['CustomerAge'].max(),df['CustomerAge'].min()"
   ]
  },
  {
   "cell_type": "code",
   "execution_count": 46,
   "id": "f67450d4",
   "metadata": {},
   "outputs": [
    {
     "data": {
      "text/html": [
       "<div>\n",
       "<style scoped>\n",
       "    .dataframe tbody tr th:only-of-type {\n",
       "        vertical-align: middle;\n",
       "    }\n",
       "\n",
       "    .dataframe tbody tr th {\n",
       "        vertical-align: top;\n",
       "    }\n",
       "\n",
       "    .dataframe thead th {\n",
       "        text-align: right;\n",
       "    }\n",
       "</style>\n",
       "<table border=\"1\" class=\"dataframe\">\n",
       "  <thead>\n",
       "    <tr style=\"text-align: right;\">\n",
       "      <th></th>\n",
       "      <th>CustomerID</th>\n",
       "      <th>CustomerDOB</th>\n",
       "      <th>CustLocation</th>\n",
       "      <th>CustAccountBalance</th>\n",
       "      <th>TransactionDate</th>\n",
       "      <th>TransactionAmount (INR)</th>\n",
       "      <th>CustomerAge</th>\n",
       "      <th>TransactionYear</th>\n",
       "      <th>TransactionMonth</th>\n",
       "      <th>M</th>\n",
       "      <th>TransactionTime(hr)</th>\n",
       "      <th>TransactionTime(min)</th>\n",
       "    </tr>\n",
       "  </thead>\n",
       "  <tbody>\n",
       "    <tr>\n",
       "      <th>485</th>\n",
       "      <td>C8013820</td>\n",
       "      <td>2004-12-07</td>\n",
       "      <td>CHENNAI</td>\n",
       "      <td>6661.03</td>\n",
       "      <td>2016-10-21</td>\n",
       "      <td>110.00</td>\n",
       "      <td>17</td>\n",
       "      <td>2016</td>\n",
       "      <td>10</td>\n",
       "      <td>0</td>\n",
       "      <td>21</td>\n",
       "      <td>51</td>\n",
       "    </tr>\n",
       "    <tr>\n",
       "      <th>5491</th>\n",
       "      <td>C1213940</td>\n",
       "      <td>2007-02-12</td>\n",
       "      <td>CHANDAULI</td>\n",
       "      <td>17728.06</td>\n",
       "      <td>2016-09-22</td>\n",
       "      <td>11499.00</td>\n",
       "      <td>14</td>\n",
       "      <td>2016</td>\n",
       "      <td>9</td>\n",
       "      <td>1</td>\n",
       "      <td>6</td>\n",
       "      <td>19</td>\n",
       "    </tr>\n",
       "    <tr>\n",
       "      <th>8173</th>\n",
       "      <td>C1017880</td>\n",
       "      <td>2013-02-20</td>\n",
       "      <td>DELHI</td>\n",
       "      <td>20257.22</td>\n",
       "      <td>2016-09-25</td>\n",
       "      <td>359.52</td>\n",
       "      <td>8</td>\n",
       "      <td>2016</td>\n",
       "      <td>9</td>\n",
       "      <td>1</td>\n",
       "      <td>19</td>\n",
       "      <td>17</td>\n",
       "    </tr>\n",
       "    <tr>\n",
       "      <th>12413</th>\n",
       "      <td>C2721860</td>\n",
       "      <td>2005-05-01</td>\n",
       "      <td>CHENNAI</td>\n",
       "      <td>5139.73</td>\n",
       "      <td>2016-09-22</td>\n",
       "      <td>95.00</td>\n",
       "      <td>16</td>\n",
       "      <td>2016</td>\n",
       "      <td>9</td>\n",
       "      <td>0</td>\n",
       "      <td>13</td>\n",
       "      <td>25</td>\n",
       "    </tr>\n",
       "    <tr>\n",
       "      <th>12531</th>\n",
       "      <td>C5333741</td>\n",
       "      <td>2010-10-18</td>\n",
       "      <td>FARIDABAD</td>\n",
       "      <td>29225.01</td>\n",
       "      <td>2016-09-27</td>\n",
       "      <td>500.00</td>\n",
       "      <td>11</td>\n",
       "      <td>2016</td>\n",
       "      <td>9</td>\n",
       "      <td>1</td>\n",
       "      <td>16</td>\n",
       "      <td>2</td>\n",
       "    </tr>\n",
       "    <tr>\n",
       "      <th>...</th>\n",
       "      <td>...</td>\n",
       "      <td>...</td>\n",
       "      <td>...</td>\n",
       "      <td>...</td>\n",
       "      <td>...</td>\n",
       "      <td>...</td>\n",
       "      <td>...</td>\n",
       "      <td>...</td>\n",
       "      <td>...</td>\n",
       "      <td>...</td>\n",
       "      <td>...</td>\n",
       "      <td>...</td>\n",
       "    </tr>\n",
       "    <tr>\n",
       "      <th>1022447</th>\n",
       "      <td>C4825367</td>\n",
       "      <td>2008-12-05</td>\n",
       "      <td>DELHI</td>\n",
       "      <td>79984.60</td>\n",
       "      <td>2016-09-13</td>\n",
       "      <td>285.00</td>\n",
       "      <td>13</td>\n",
       "      <td>2016</td>\n",
       "      <td>9</td>\n",
       "      <td>0</td>\n",
       "      <td>18</td>\n",
       "      <td>59</td>\n",
       "    </tr>\n",
       "    <tr>\n",
       "      <th>1035678</th>\n",
       "      <td>C8528348</td>\n",
       "      <td>2012-07-03</td>\n",
       "      <td>NASHIK</td>\n",
       "      <td>26000.92</td>\n",
       "      <td>2016-09-13</td>\n",
       "      <td>570.00</td>\n",
       "      <td>9</td>\n",
       "      <td>2016</td>\n",
       "      <td>9</td>\n",
       "      <td>1</td>\n",
       "      <td>10</td>\n",
       "      <td>26</td>\n",
       "    </tr>\n",
       "    <tr>\n",
       "      <th>1039547</th>\n",
       "      <td>C5632444</td>\n",
       "      <td>2004-07-03</td>\n",
       "      <td>GHAZIABAD</td>\n",
       "      <td>47042.24</td>\n",
       "      <td>2016-09-18</td>\n",
       "      <td>147.00</td>\n",
       "      <td>17</td>\n",
       "      <td>2016</td>\n",
       "      <td>9</td>\n",
       "      <td>0</td>\n",
       "      <td>14</td>\n",
       "      <td>19</td>\n",
       "    </tr>\n",
       "    <tr>\n",
       "      <th>1045629</th>\n",
       "      <td>C8010686</td>\n",
       "      <td>2005-08-15</td>\n",
       "      <td>GURGAON</td>\n",
       "      <td>43573.32</td>\n",
       "      <td>2016-09-18</td>\n",
       "      <td>902.00</td>\n",
       "      <td>16</td>\n",
       "      <td>2016</td>\n",
       "      <td>9</td>\n",
       "      <td>0</td>\n",
       "      <td>11</td>\n",
       "      <td>34</td>\n",
       "    </tr>\n",
       "    <tr>\n",
       "      <th>1047129</th>\n",
       "      <td>C2510728</td>\n",
       "      <td>2015-11-18</td>\n",
       "      <td>DELHI</td>\n",
       "      <td>267623.36</td>\n",
       "      <td>2016-09-18</td>\n",
       "      <td>5300.00</td>\n",
       "      <td>6</td>\n",
       "      <td>2016</td>\n",
       "      <td>9</td>\n",
       "      <td>1</td>\n",
       "      <td>20</td>\n",
       "      <td>20</td>\n",
       "    </tr>\n",
       "  </tbody>\n",
       "</table>\n",
       "<p>323 rows × 12 columns</p>\n",
       "</div>"
      ],
      "text/plain": [
       "        CustomerID CustomerDOB CustLocation  CustAccountBalance  \\\n",
       "485       C8013820  2004-12-07      CHENNAI             6661.03   \n",
       "5491      C1213940  2007-02-12    CHANDAULI            17728.06   \n",
       "8173      C1017880  2013-02-20        DELHI            20257.22   \n",
       "12413     C2721860  2005-05-01      CHENNAI             5139.73   \n",
       "12531     C5333741  2010-10-18    FARIDABAD            29225.01   \n",
       "...            ...         ...          ...                 ...   \n",
       "1022447   C4825367  2008-12-05        DELHI            79984.60   \n",
       "1035678   C8528348  2012-07-03       NASHIK            26000.92   \n",
       "1039547   C5632444  2004-07-03    GHAZIABAD            47042.24   \n",
       "1045629   C8010686  2005-08-15      GURGAON            43573.32   \n",
       "1047129   C2510728  2015-11-18        DELHI           267623.36   \n",
       "\n",
       "        TransactionDate  TransactionAmount (INR)  CustomerAge  \\\n",
       "485          2016-10-21                   110.00           17   \n",
       "5491         2016-09-22                 11499.00           14   \n",
       "8173         2016-09-25                   359.52            8   \n",
       "12413        2016-09-22                    95.00           16   \n",
       "12531        2016-09-27                   500.00           11   \n",
       "...                 ...                      ...          ...   \n",
       "1022447      2016-09-13                   285.00           13   \n",
       "1035678      2016-09-13                   570.00            9   \n",
       "1039547      2016-09-18                   147.00           17   \n",
       "1045629      2016-09-18                   902.00           16   \n",
       "1047129      2016-09-18                  5300.00            6   \n",
       "\n",
       "         TransactionYear  TransactionMonth  M  TransactionTime(hr)  \\\n",
       "485                 2016                10  0                   21   \n",
       "5491                2016                 9  1                    6   \n",
       "8173                2016                 9  1                   19   \n",
       "12413               2016                 9  0                   13   \n",
       "12531               2016                 9  1                   16   \n",
       "...                  ...               ... ..                  ...   \n",
       "1022447             2016                 9  0                   18   \n",
       "1035678             2016                 9  1                   10   \n",
       "1039547             2016                 9  0                   14   \n",
       "1045629             2016                 9  0                   11   \n",
       "1047129             2016                 9  1                   20   \n",
       "\n",
       "         TransactionTime(min)  \n",
       "485                        51  \n",
       "5491                       19  \n",
       "8173                       17  \n",
       "12413                      25  \n",
       "12531                       2  \n",
       "...                       ...  \n",
       "1022447                    59  \n",
       "1035678                    26  \n",
       "1039547                    19  \n",
       "1045629                    34  \n",
       "1047129                    20  \n",
       "\n",
       "[323 rows x 12 columns]"
      ]
     },
     "execution_count": 46,
     "metadata": {},
     "output_type": "execute_result"
    }
   ],
   "source": [
    "df[df['CustomerAge']<18]"
   ]
  },
  {
   "cell_type": "code",
   "execution_count": 47,
   "id": "1e9e7762",
   "metadata": {},
   "outputs": [],
   "source": [
    "df = df.loc[~(df['CustomerAge']<18)]"
   ]
  },
  {
   "cell_type": "code",
   "execution_count": 48,
   "id": "cd21e743",
   "metadata": {},
   "outputs": [
    {
     "data": {
      "text/html": [
       "<div>\n",
       "<style scoped>\n",
       "    .dataframe tbody tr th:only-of-type {\n",
       "        vertical-align: middle;\n",
       "    }\n",
       "\n",
       "    .dataframe tbody tr th {\n",
       "        vertical-align: top;\n",
       "    }\n",
       "\n",
       "    .dataframe thead th {\n",
       "        text-align: right;\n",
       "    }\n",
       "</style>\n",
       "<table border=\"1\" class=\"dataframe\">\n",
       "  <thead>\n",
       "    <tr style=\"text-align: right;\">\n",
       "      <th></th>\n",
       "      <th>CustomerID</th>\n",
       "      <th>CustomerDOB</th>\n",
       "      <th>CustLocation</th>\n",
       "      <th>CustAccountBalance</th>\n",
       "      <th>TransactionDate</th>\n",
       "      <th>TransactionAmount (INR)</th>\n",
       "      <th>CustomerAge</th>\n",
       "      <th>TransactionYear</th>\n",
       "      <th>TransactionMonth</th>\n",
       "      <th>M</th>\n",
       "      <th>TransactionTime(hr)</th>\n",
       "      <th>TransactionTime(min)</th>\n",
       "    </tr>\n",
       "  </thead>\n",
       "  <tbody>\n",
       "  </tbody>\n",
       "</table>\n",
       "</div>"
      ],
      "text/plain": [
       "Empty DataFrame\n",
       "Columns: [CustomerID, CustomerDOB, CustLocation, CustAccountBalance, TransactionDate, TransactionAmount (INR), CustomerAge, TransactionYear, TransactionMonth, M, TransactionTime(hr), TransactionTime(min)]\n",
       "Index: []"
      ]
     },
     "execution_count": 48,
     "metadata": {},
     "output_type": "execute_result"
    }
   ],
   "source": [
    "df[df['CustomerAge']<18]"
   ]
  },
  {
   "cell_type": "code",
   "execution_count": 49,
   "id": "cc5aaa85",
   "metadata": {},
   "outputs": [
    {
     "data": {
      "text/plain": [
       "(100, 18)"
      ]
     },
     "execution_count": 49,
     "metadata": {},
     "output_type": "execute_result"
    }
   ],
   "source": [
    "df['CustomerAge'].max(),df['CustomerAge'].min()"
   ]
  },
  {
   "cell_type": "code",
   "execution_count": 84,
   "id": "7894a6e5",
   "metadata": {},
   "outputs": [],
   "source": [
    "def ageRange(x):\n",
    "    y = int(x/10)\n",
    "    if y==2:\n",
    "        return '20-29'\n",
    "    elif y==3:\n",
    "        return '30-39'\n",
    "    elif y==4:\n",
    "        return '40-49'\n",
    "    elif y==5:\n",
    "        return '50-59'\n",
    "    elif y==6:\n",
    "        return '60-69'\n",
    "    elif y==7:\n",
    "        return '70-79'\n",
    "    elif y==8:\n",
    "        return '80-89'\n",
    "    elif y==9:\n",
    "        return '90-99'\n",
    "    elif y==10:\n",
    "        return '100-109'\n",
    "    else:\n",
    "        return '18-19'"
   ]
  },
  {
   "cell_type": "code",
   "execution_count": 85,
   "id": "f6f1f631",
   "metadata": {},
   "outputs": [],
   "source": [
    "df['AgeRange'] = df['CustomerAge'].apply(lambda x:ageRange(x))"
   ]
  },
  {
   "cell_type": "code",
   "execution_count": 86,
   "id": "bf5c20e4",
   "metadata": {},
   "outputs": [
    {
     "data": {
      "text/plain": [
       "0          20-29\n",
       "1          60-69\n",
       "2          20-29\n",
       "3          40-49\n",
       "4          30-39\n",
       "           ...  \n",
       "1048562    30-39\n",
       "1048563    20-29\n",
       "1048564    30-39\n",
       "1048565    40-49\n",
       "1048566    30-39\n",
       "Name: AgeRange, Length: 984999, dtype: object"
      ]
     },
     "execution_count": 86,
     "metadata": {},
     "output_type": "execute_result"
    }
   ],
   "source": [
    "df['AgeRange']"
   ]
  },
  {
   "cell_type": "code",
   "execution_count": 53,
   "id": "e3e87c60",
   "metadata": {},
   "outputs": [
    {
     "data": {
      "text/html": [
       "<div>\n",
       "<style scoped>\n",
       "    .dataframe tbody tr th:only-of-type {\n",
       "        vertical-align: middle;\n",
       "    }\n",
       "\n",
       "    .dataframe tbody tr th {\n",
       "        vertical-align: top;\n",
       "    }\n",
       "\n",
       "    .dataframe thead th {\n",
       "        text-align: right;\n",
       "    }\n",
       "</style>\n",
       "<table border=\"1\" class=\"dataframe\">\n",
       "  <thead>\n",
       "    <tr style=\"text-align: right;\">\n",
       "      <th></th>\n",
       "      <th>CustomerID</th>\n",
       "      <th>CustomerDOB</th>\n",
       "      <th>CustLocation</th>\n",
       "      <th>CustAccountBalance</th>\n",
       "      <th>TransactionDate</th>\n",
       "      <th>TransactionAmount (INR)</th>\n",
       "      <th>CustomerAge</th>\n",
       "      <th>TransactionYear</th>\n",
       "      <th>TransactionMonth</th>\n",
       "      <th>M</th>\n",
       "      <th>TransactionTime(hr)</th>\n",
       "      <th>TransactionTime(min)</th>\n",
       "      <th>AgeRange</th>\n",
       "    </tr>\n",
       "  </thead>\n",
       "  <tbody>\n",
       "    <tr>\n",
       "      <th>0</th>\n",
       "      <td>C5841053</td>\n",
       "      <td>1994-10-01</td>\n",
       "      <td>JAMSHEDPUR</td>\n",
       "      <td>17819.05</td>\n",
       "      <td>2016-08-02</td>\n",
       "      <td>25.0</td>\n",
       "      <td>27</td>\n",
       "      <td>2016</td>\n",
       "      <td>8</td>\n",
       "      <td>0</td>\n",
       "      <td>14</td>\n",
       "      <td>32</td>\n",
       "      <td>20-29</td>\n",
       "    </tr>\n",
       "    <tr>\n",
       "      <th>1</th>\n",
       "      <td>C2142763</td>\n",
       "      <td>1957-04-04</td>\n",
       "      <td>JHAJJAR</td>\n",
       "      <td>2270.69</td>\n",
       "      <td>2016-08-02</td>\n",
       "      <td>27999.0</td>\n",
       "      <td>64</td>\n",
       "      <td>2016</td>\n",
       "      <td>8</td>\n",
       "      <td>1</td>\n",
       "      <td>14</td>\n",
       "      <td>18</td>\n",
       "      <td>60-69</td>\n",
       "    </tr>\n",
       "    <tr>\n",
       "      <th>2</th>\n",
       "      <td>C4417068</td>\n",
       "      <td>1996-11-26</td>\n",
       "      <td>MUMBAI</td>\n",
       "      <td>17874.44</td>\n",
       "      <td>2016-08-02</td>\n",
       "      <td>459.0</td>\n",
       "      <td>25</td>\n",
       "      <td>2016</td>\n",
       "      <td>8</td>\n",
       "      <td>0</td>\n",
       "      <td>14</td>\n",
       "      <td>27</td>\n",
       "      <td>20-29</td>\n",
       "    </tr>\n",
       "    <tr>\n",
       "      <th>3</th>\n",
       "      <td>C5342380</td>\n",
       "      <td>1973-09-14</td>\n",
       "      <td>MUMBAI</td>\n",
       "      <td>866503.21</td>\n",
       "      <td>2016-08-02</td>\n",
       "      <td>2060.0</td>\n",
       "      <td>48</td>\n",
       "      <td>2016</td>\n",
       "      <td>8</td>\n",
       "      <td>0</td>\n",
       "      <td>14</td>\n",
       "      <td>27</td>\n",
       "      <td>40-49</td>\n",
       "    </tr>\n",
       "    <tr>\n",
       "      <th>4</th>\n",
       "      <td>C9031234</td>\n",
       "      <td>1988-03-24</td>\n",
       "      <td>MUMBAI</td>\n",
       "      <td>6714.43</td>\n",
       "      <td>2016-08-02</td>\n",
       "      <td>1762.5</td>\n",
       "      <td>33</td>\n",
       "      <td>2016</td>\n",
       "      <td>8</td>\n",
       "      <td>0</td>\n",
       "      <td>18</td>\n",
       "      <td>11</td>\n",
       "      <td>30-39</td>\n",
       "    </tr>\n",
       "  </tbody>\n",
       "</table>\n",
       "</div>"
      ],
      "text/plain": [
       "  CustomerID CustomerDOB CustLocation  CustAccountBalance TransactionDate  \\\n",
       "0   C5841053  1994-10-01   JAMSHEDPUR            17819.05      2016-08-02   \n",
       "1   C2142763  1957-04-04      JHAJJAR             2270.69      2016-08-02   \n",
       "2   C4417068  1996-11-26       MUMBAI            17874.44      2016-08-02   \n",
       "3   C5342380  1973-09-14       MUMBAI           866503.21      2016-08-02   \n",
       "4   C9031234  1988-03-24       MUMBAI             6714.43      2016-08-02   \n",
       "\n",
       "   TransactionAmount (INR)  CustomerAge  TransactionYear  TransactionMonth  M  \\\n",
       "0                     25.0           27             2016                 8  0   \n",
       "1                  27999.0           64             2016                 8  1   \n",
       "2                    459.0           25             2016                 8  0   \n",
       "3                   2060.0           48             2016                 8  0   \n",
       "4                   1762.5           33             2016                 8  0   \n",
       "\n",
       "   TransactionTime(hr)  TransactionTime(min) AgeRange  \n",
       "0                   14                    32    20-29  \n",
       "1                   14                    18    60-69  \n",
       "2                   14                    27    20-29  \n",
       "3                   14                    27    40-49  \n",
       "4                   18                    11    30-39  "
      ]
     },
     "execution_count": 53,
     "metadata": {},
     "output_type": "execute_result"
    }
   ],
   "source": [
    "df.head()"
   ]
  },
  {
   "cell_type": "code",
   "execution_count": 57,
   "id": "d5a34972",
   "metadata": {},
   "outputs": [
    {
     "data": {
      "text/plain": [
       "array([2016], dtype=int64)"
      ]
     },
     "execution_count": 57,
     "metadata": {},
     "output_type": "execute_result"
    }
   ],
   "source": [
    "df['TransactionDate'].dt.year.unique()"
   ]
  },
  {
   "cell_type": "markdown",
   "id": "9c8115fa",
   "metadata": {},
   "source": [
    "This dataset consists of transactions that take place only in 2016. So 'TransactionYear' column has only one value and it can be removed from the dataset"
   ]
  },
  {
   "cell_type": "code",
   "execution_count": 58,
   "id": "c53e1ba6",
   "metadata": {},
   "outputs": [],
   "source": [
    "df.drop('TransactionYear',axis=1,inplace=True)"
   ]
  },
  {
   "cell_type": "markdown",
   "id": "2bac1edb",
   "metadata": {},
   "source": [
    "## DIVIDING THE TRANSACTION AMOUNT INTO CATEGORIES"
   ]
  },
  {
   "cell_type": "code",
   "execution_count": 59,
   "id": "696bfb2f",
   "metadata": {},
   "outputs": [
    {
     "data": {
      "text/plain": [
       "(1560034.99, 0.0)"
      ]
     },
     "execution_count": 59,
     "metadata": {},
     "output_type": "execute_result"
    }
   ],
   "source": [
    "df['TransactionAmount (INR)'].max(),df['TransactionAmount (INR)'].min()"
   ]
  },
  {
   "cell_type": "code",
   "execution_count": 60,
   "id": "fa94310c",
   "metadata": {},
   "outputs": [],
   "source": [
    "def transRange(x):\n",
    "    y = int(x/300000)\n",
    "    if y==0:\n",
    "        return '0-2.99'\n",
    "    elif y==1:\n",
    "        return '3-5.99'\n",
    "    elif y==2:\n",
    "        return '6-8.99'\n",
    "    elif y==3:\n",
    "        return '9-11.99'\n",
    "    elif y==4:\n",
    "        return '12-14.99'\n",
    "    else:\n",
    "        return '15'"
   ]
  },
  {
   "cell_type": "code",
   "execution_count": 61,
   "id": "8fbe8773",
   "metadata": {},
   "outputs": [],
   "source": [
    "df['TransactionRange(L)'] = df['TransactionAmount (INR)'].apply(lambda x:transRange(x))"
   ]
  },
  {
   "cell_type": "code",
   "execution_count": 62,
   "id": "06908569",
   "metadata": {},
   "outputs": [
    {
     "data": {
      "text/plain": [
       "0-2.99      984963\n",
       "3-5.99          29\n",
       "6-8.99           4\n",
       "12-14.99         1\n",
       "9-11.99          1\n",
       "15               1\n",
       "Name: TransactionRange(L), dtype: int64"
      ]
     },
     "execution_count": 62,
     "metadata": {},
     "output_type": "execute_result"
    }
   ],
   "source": [
    "df['TransactionRange(L)'].value_counts()"
   ]
  },
  {
   "cell_type": "code",
   "execution_count": 65,
   "id": "c0f422e8",
   "metadata": {},
   "outputs": [
    {
     "data": {
      "text/plain": [
       "(299009.96, 0.0)"
      ]
     },
     "execution_count": 65,
     "metadata": {},
     "output_type": "execute_result"
    }
   ],
   "source": [
    "df[df['TransactionRange(L)']=='0-2.99']['TransactionAmount (INR)'].max(),df[df['TransactionRange(L)']=='0-2.99']['TransactionAmount (INR)'].min()"
   ]
  },
  {
   "cell_type": "markdown",
   "id": "e2169a13",
   "metadata": {},
   "source": [
    "## DIVIDING '0-2.99'"
   ]
  },
  {
   "cell_type": "code",
   "execution_count": 66,
   "id": "f1e5f69f",
   "metadata": {},
   "outputs": [],
   "source": [
    "def trans_type(x,y):\n",
    "    if y=='0-2.99':\n",
    "        z = int(x/60000)\n",
    "        if z==0:\n",
    "            return 'small1'\n",
    "        elif y==1:\n",
    "            return 'small2'\n",
    "        elif y==2:\n",
    "            return 'small3'\n",
    "        elif y==3:\n",
    "            return 'small4'\n",
    "        else:\n",
    "            return 'small5'\n",
    "    elif y=='3-5.99':\n",
    "        return 'medium'\n",
    "    else:\n",
    "        return 'large'"
   ]
  },
  {
   "cell_type": "code",
   "execution_count": 67,
   "id": "35980eac",
   "metadata": {},
   "outputs": [],
   "source": [
    "df['TransactionType'] = df.apply(lambda x:trans_type(x['TransactionAmount (INR)'],x['TransactionRange(L)']),axis=1)"
   ]
  },
  {
   "cell_type": "code",
   "execution_count": 70,
   "id": "811c0ce7",
   "metadata": {},
   "outputs": [
    {
     "data": {
      "text/plain": [
       "small1    983660\n",
       "small5      1303\n",
       "medium        29\n",
       "large          7\n",
       "Name: TransactionType, dtype: int64"
      ]
     },
     "execution_count": 70,
     "metadata": {},
     "output_type": "execute_result"
    }
   ],
   "source": [
    "df['TransactionType'].value_counts()"
   ]
  },
  {
   "cell_type": "markdown",
   "id": "5c5b8a1a",
   "metadata": {},
   "source": [
    "## AM OR PM"
   ]
  },
  {
   "cell_type": "code",
   "execution_count": 95,
   "id": "1c918bd0",
   "metadata": {},
   "outputs": [],
   "source": [
    "def am(x):\n",
    "    if x<12:\n",
    "        return 1\n",
    "    return 0"
   ]
  },
  {
   "cell_type": "code",
   "execution_count": 96,
   "id": "97fb76e9",
   "metadata": {},
   "outputs": [],
   "source": [
    "df['AM'] = df['TransactionTime(hr)'].apply(am)"
   ]
  },
  {
   "cell_type": "code",
   "execution_count": 97,
   "id": "95187f4d",
   "metadata": {},
   "outputs": [
    {
     "data": {
      "text/html": [
       "<div>\n",
       "<style scoped>\n",
       "    .dataframe tbody tr th:only-of-type {\n",
       "        vertical-align: middle;\n",
       "    }\n",
       "\n",
       "    .dataframe tbody tr th {\n",
       "        vertical-align: top;\n",
       "    }\n",
       "\n",
       "    .dataframe thead th {\n",
       "        text-align: right;\n",
       "    }\n",
       "</style>\n",
       "<table border=\"1\" class=\"dataframe\">\n",
       "  <thead>\n",
       "    <tr style=\"text-align: right;\">\n",
       "      <th></th>\n",
       "      <th>CustomerID</th>\n",
       "      <th>CustomerDOB</th>\n",
       "      <th>CustLocation</th>\n",
       "      <th>CustAccountBalance</th>\n",
       "      <th>TransactionDate</th>\n",
       "      <th>TransactionAmount (INR)</th>\n",
       "      <th>CustomerAge</th>\n",
       "      <th>TransactionMonth</th>\n",
       "      <th>M</th>\n",
       "      <th>TransactionTime(hr)</th>\n",
       "      <th>TransactionTime(min)</th>\n",
       "      <th>AgeRange</th>\n",
       "      <th>TransactionRange(L)</th>\n",
       "      <th>TransactionType</th>\n",
       "      <th>AM</th>\n",
       "    </tr>\n",
       "  </thead>\n",
       "  <tbody>\n",
       "    <tr>\n",
       "      <th>0</th>\n",
       "      <td>C5841053</td>\n",
       "      <td>1994-10-01</td>\n",
       "      <td>JAMSHEDPUR</td>\n",
       "      <td>17819.05</td>\n",
       "      <td>2016-08-02</td>\n",
       "      <td>25.0</td>\n",
       "      <td>27</td>\n",
       "      <td>8</td>\n",
       "      <td>0</td>\n",
       "      <td>14</td>\n",
       "      <td>32</td>\n",
       "      <td>20-29</td>\n",
       "      <td>0-2.99</td>\n",
       "      <td>small1</td>\n",
       "      <td>0</td>\n",
       "    </tr>\n",
       "    <tr>\n",
       "      <th>1</th>\n",
       "      <td>C2142763</td>\n",
       "      <td>1957-04-04</td>\n",
       "      <td>JHAJJAR</td>\n",
       "      <td>2270.69</td>\n",
       "      <td>2016-08-02</td>\n",
       "      <td>27999.0</td>\n",
       "      <td>64</td>\n",
       "      <td>8</td>\n",
       "      <td>1</td>\n",
       "      <td>14</td>\n",
       "      <td>18</td>\n",
       "      <td>60-69</td>\n",
       "      <td>0-2.99</td>\n",
       "      <td>small1</td>\n",
       "      <td>0</td>\n",
       "    </tr>\n",
       "    <tr>\n",
       "      <th>2</th>\n",
       "      <td>C4417068</td>\n",
       "      <td>1996-11-26</td>\n",
       "      <td>MUMBAI</td>\n",
       "      <td>17874.44</td>\n",
       "      <td>2016-08-02</td>\n",
       "      <td>459.0</td>\n",
       "      <td>25</td>\n",
       "      <td>8</td>\n",
       "      <td>0</td>\n",
       "      <td>14</td>\n",
       "      <td>27</td>\n",
       "      <td>20-29</td>\n",
       "      <td>0-2.99</td>\n",
       "      <td>small1</td>\n",
       "      <td>0</td>\n",
       "    </tr>\n",
       "    <tr>\n",
       "      <th>3</th>\n",
       "      <td>C5342380</td>\n",
       "      <td>1973-09-14</td>\n",
       "      <td>MUMBAI</td>\n",
       "      <td>866503.21</td>\n",
       "      <td>2016-08-02</td>\n",
       "      <td>2060.0</td>\n",
       "      <td>48</td>\n",
       "      <td>8</td>\n",
       "      <td>0</td>\n",
       "      <td>14</td>\n",
       "      <td>27</td>\n",
       "      <td>40-49</td>\n",
       "      <td>0-2.99</td>\n",
       "      <td>small1</td>\n",
       "      <td>0</td>\n",
       "    </tr>\n",
       "    <tr>\n",
       "      <th>4</th>\n",
       "      <td>C9031234</td>\n",
       "      <td>1988-03-24</td>\n",
       "      <td>MUMBAI</td>\n",
       "      <td>6714.43</td>\n",
       "      <td>2016-08-02</td>\n",
       "      <td>1762.5</td>\n",
       "      <td>33</td>\n",
       "      <td>8</td>\n",
       "      <td>0</td>\n",
       "      <td>18</td>\n",
       "      <td>11</td>\n",
       "      <td>30-39</td>\n",
       "      <td>0-2.99</td>\n",
       "      <td>small1</td>\n",
       "      <td>0</td>\n",
       "    </tr>\n",
       "  </tbody>\n",
       "</table>\n",
       "</div>"
      ],
      "text/plain": [
       "  CustomerID CustomerDOB CustLocation  CustAccountBalance TransactionDate  \\\n",
       "0   C5841053  1994-10-01   JAMSHEDPUR            17819.05      2016-08-02   \n",
       "1   C2142763  1957-04-04      JHAJJAR             2270.69      2016-08-02   \n",
       "2   C4417068  1996-11-26       MUMBAI            17874.44      2016-08-02   \n",
       "3   C5342380  1973-09-14       MUMBAI           866503.21      2016-08-02   \n",
       "4   C9031234  1988-03-24       MUMBAI             6714.43      2016-08-02   \n",
       "\n",
       "   TransactionAmount (INR)  CustomerAge  TransactionMonth  M  \\\n",
       "0                     25.0           27                 8  0   \n",
       "1                  27999.0           64                 8  1   \n",
       "2                    459.0           25                 8  0   \n",
       "3                   2060.0           48                 8  0   \n",
       "4                   1762.5           33                 8  0   \n",
       "\n",
       "   TransactionTime(hr)  TransactionTime(min) AgeRange TransactionRange(L)  \\\n",
       "0                   14                    32    20-29              0-2.99   \n",
       "1                   14                    18    60-69              0-2.99   \n",
       "2                   14                    27    20-29              0-2.99   \n",
       "3                   14                    27    40-49              0-2.99   \n",
       "4                   18                    11    30-39              0-2.99   \n",
       "\n",
       "  TransactionType  AM  \n",
       "0          small1   0  \n",
       "1          small1   0  \n",
       "2          small1   0  \n",
       "3          small1   0  \n",
       "4          small1   0  "
      ]
     },
     "execution_count": 97,
     "metadata": {},
     "output_type": "execute_result"
    }
   ],
   "source": [
    "df.head()"
   ]
  },
  {
   "cell_type": "markdown",
   "id": "2ade4238",
   "metadata": {},
   "source": [
    "## BASIC VISUALIZATION"
   ]
  },
  {
   "cell_type": "code",
   "execution_count": 73,
   "id": "f92f3d77",
   "metadata": {},
   "outputs": [],
   "source": [
    "import matplotlib.pyplot as plt\n",
    "import seaborn as sns"
   ]
  },
  {
   "cell_type": "code",
   "execution_count": 87,
   "id": "4055ca30",
   "metadata": {},
   "outputs": [
    {
     "data": {
      "text/plain": [
       "<AxesSubplot:xlabel='AgeRange', ylabel='count'>"
      ]
     },
     "execution_count": 87,
     "metadata": {},
     "output_type": "execute_result"
    },
    {
     "data": {
      "image/png": "[encoded data removed]",
      "text/plain": [
       "<Figure size 1800x600 with 1 Axes>"
      ]
     },
     "metadata": {
      "needs_background": "light"
     },
     "output_type": "display_data"
    }
   ],
   "source": [
    "plt.figure(figsize=(12,4),dpi=150)\n",
    "sns.countplot(data=df,x='AgeRange')"
   ]
  },
  {
   "cell_type": "code",
   "execution_count": 92,
   "id": "bb469bae",
   "metadata": {},
   "outputs": [
    {
     "data": {
      "text/plain": [
       "(0.0, 300.0)"
      ]
     },
     "execution_count": 92,
     "metadata": {},
     "output_type": "execute_result"
    },
    {
     "data": {
      "image/png": "[encoded data removed]",
      "text/plain": [
       "<Figure size 1800x600 with 1 Axes>"
      ]
     },
     "metadata": {
      "needs_background": "light"
     },
     "output_type": "display_data"
    }
   ],
   "source": [
    "plt.figure(figsize=(12,4),dpi=150)\n",
    "sns.countplot(data=df,x='TransactionType')\n",
    "plt.ylim(0,300)"
   ]
  },
  {
   "cell_type": "code",
   "execution_count": 93,
   "id": "0a35965c",
   "metadata": {},
   "outputs": [
    {
     "data": {
      "text/plain": [
       "<AxesSubplot:xlabel='TransactionMonth', ylabel='count'>"
      ]
     },
     "execution_count": 93,
     "metadata": {},
     "output_type": "execute_result"
    },
    {
     "data": {
      "image/png": "[encoded data removed]",
      "text/plain": [
       "<Figure size 1800x600 with 1 Axes>"
      ]
     },
     "metadata": {
      "needs_background": "light"
     },
     "output_type": "display_data"
    }
   ],
   "source": [
    "plt.figure(figsize=(12,4),dpi=150)\n",
    "sns.countplot(data=df,x='TransactionMonth')"
   ]
  },
  {
   "cell_type": "code",
   "execution_count": 94,
   "id": "bc638a3b",
   "metadata": {},
   "outputs": [
    {
     "data": {
      "text/plain": [
       "<AxesSubplot:xlabel='TransactionTime(hr)', ylabel='count'>"
      ]
     },
     "execution_count": 94,
     "metadata": {},
     "output_type": "execute_result"
    },
    {
     "data": {
      "image/png": "[encoded data removed]",
      "text/plain": [
       "<Figure size 1800x600 with 1 Axes>"
      ]
     },
     "metadata": {
      "needs_background": "light"
     },
     "output_type": "display_data"
    }
   ],
   "source": [
    "plt.figure(figsize=(12,4),dpi=150)\n",
    "sns.countplot(data=df,x='TransactionTime(hr)')"
   ]
  },
  {
   "cell_type": "code",
   "execution_count": 98,
   "id": "34c2cc6a",
   "metadata": {},
   "outputs": [
    {
     "data": {
      "text/plain": [
       "<AxesSubplot:xlabel='AM', ylabel='count'>"
      ]
     },
     "execution_count": 98,
     "metadata": {},
     "output_type": "execute_result"
    },
    {
     "data": {
      "image/png": "[encoded data removed]",
      "text/plain": [
       "<Figure size 1800x600 with 1 Axes>"
      ]
     },
     "metadata": {
      "needs_background": "light"
     },
     "output_type": "display_data"
    }
   ],
   "source": [
    "plt.figure(figsize=(12,4),dpi=150)\n",
    "sns.countplot(data=df,x='AM')"
   ]
  },
  {
   "cell_type": "markdown",
   "id": "26b4c81a",
   "metadata": {},
   "source": [
    "## SCALING THE DATASET"
   ]
  },
  {
   "cell_type": "code",
   "execution_count": 99,
   "id": "9d0379bc",
   "metadata": {},
   "outputs": [
    {
     "data": {
      "text/plain": [
       "Index(['CustomerID', 'CustomerDOB', 'CustLocation', 'CustAccountBalance',\n",
       "       'TransactionDate', 'TransactionAmount (INR)', 'CustomerAge',\n",
       "       'TransactionMonth', 'M', 'TransactionTime(hr)', 'TransactionTime(min)',\n",
       "       'AgeRange', 'TransactionRange(L)', 'TransactionType', 'AM'],\n",
       "      dtype='object')"
      ]
     },
     "execution_count": 99,
     "metadata": {},
     "output_type": "execute_result"
    }
   ],
   "source": [
    "df.columns"
   ]
  },
  {
   "cell_type": "code",
   "execution_count": 100,
   "id": "416c0883",
   "metadata": {},
   "outputs": [],
   "source": [
    "from sklearn.preprocessing import StandardScaler\n",
    "scaler = StandardScaler()\n",
    "X = df[['TransactionAmount (INR)','CustAccountBalance']]\n",
    "scaled_X = scaler.fit_transform(X)\n",
    "scaled_df = df\n",
    "scaled_df[['TransactionAmount (INR)','CustAccountBalance']] = scaled_X"
   ]
  },
  {
   "cell_type": "code",
   "execution_count": 101,
   "id": "5bce557e",
   "metadata": {},
   "outputs": [
    {
     "data": {
      "text/html": [
       "<div>\n",
       "<style scoped>\n",
       "    .dataframe tbody tr th:only-of-type {\n",
       "        vertical-align: middle;\n",
       "    }\n",
       "\n",
       "    .dataframe tbody tr th {\n",
       "        vertical-align: top;\n",
       "    }\n",
       "\n",
       "    .dataframe thead th {\n",
       "        text-align: right;\n",
       "    }\n",
       "</style>\n",
       "<table border=\"1\" class=\"dataframe\">\n",
       "  <thead>\n",
       "    <tr style=\"text-align: right;\">\n",
       "      <th></th>\n",
       "      <th>CustomerID</th>\n",
       "      <th>CustomerDOB</th>\n",
       "      <th>CustLocation</th>\n",
       "      <th>CustAccountBalance</th>\n",
       "      <th>TransactionDate</th>\n",
       "      <th>TransactionAmount (INR)</th>\n",
       "      <th>CustomerAge</th>\n",
       "      <th>TransactionMonth</th>\n",
       "      <th>M</th>\n",
       "      <th>TransactionTime(hr)</th>\n",
       "      <th>TransactionTime(min)</th>\n",
       "      <th>AgeRange</th>\n",
       "      <th>TransactionRange(L)</th>\n",
       "      <th>TransactionType</th>\n",
       "      <th>AM</th>\n",
       "    </tr>\n",
       "  </thead>\n",
       "  <tbody>\n",
       "    <tr>\n",
       "      <th>0</th>\n",
       "      <td>C5841053</td>\n",
       "      <td>1994-10-01</td>\n",
       "      <td>JAMSHEDPUR</td>\n",
       "      <td>-0.107885</td>\n",
       "      <td>2016-08-02</td>\n",
       "      <td>-0.232423</td>\n",
       "      <td>27</td>\n",
       "      <td>8</td>\n",
       "      <td>0</td>\n",
       "      <td>14</td>\n",
       "      <td>32</td>\n",
       "      <td>20-29</td>\n",
       "      <td>0-2.99</td>\n",
       "      <td>small1</td>\n",
       "      <td>0</td>\n",
       "    </tr>\n",
       "    <tr>\n",
       "      <th>1</th>\n",
       "      <td>C2142763</td>\n",
       "      <td>1957-04-04</td>\n",
       "      <td>JHAJJAR</td>\n",
       "      <td>-0.126892</td>\n",
       "      <td>2016-08-02</td>\n",
       "      <td>4.323506</td>\n",
       "      <td>64</td>\n",
       "      <td>8</td>\n",
       "      <td>1</td>\n",
       "      <td>14</td>\n",
       "      <td>18</td>\n",
       "      <td>60-69</td>\n",
       "      <td>0-2.99</td>\n",
       "      <td>small1</td>\n",
       "      <td>0</td>\n",
       "    </tr>\n",
       "    <tr>\n",
       "      <th>2</th>\n",
       "      <td>C4417068</td>\n",
       "      <td>1996-11-26</td>\n",
       "      <td>MUMBAI</td>\n",
       "      <td>-0.107818</td>\n",
       "      <td>2016-08-02</td>\n",
       "      <td>-0.161741</td>\n",
       "      <td>25</td>\n",
       "      <td>8</td>\n",
       "      <td>0</td>\n",
       "      <td>14</td>\n",
       "      <td>27</td>\n",
       "      <td>20-29</td>\n",
       "      <td>0-2.99</td>\n",
       "      <td>small1</td>\n",
       "      <td>0</td>\n",
       "    </tr>\n",
       "    <tr>\n",
       "      <th>3</th>\n",
       "      <td>C5342380</td>\n",
       "      <td>1973-09-14</td>\n",
       "      <td>MUMBAI</td>\n",
       "      <td>0.929583</td>\n",
       "      <td>2016-08-02</td>\n",
       "      <td>0.099003</td>\n",
       "      <td>48</td>\n",
       "      <td>8</td>\n",
       "      <td>0</td>\n",
       "      <td>14</td>\n",
       "      <td>27</td>\n",
       "      <td>40-49</td>\n",
       "      <td>0-2.99</td>\n",
       "      <td>small1</td>\n",
       "      <td>0</td>\n",
       "    </tr>\n",
       "    <tr>\n",
       "      <th>4</th>\n",
       "      <td>C9031234</td>\n",
       "      <td>1988-03-24</td>\n",
       "      <td>MUMBAI</td>\n",
       "      <td>-0.121460</td>\n",
       "      <td>2016-08-02</td>\n",
       "      <td>0.050551</td>\n",
       "      <td>33</td>\n",
       "      <td>8</td>\n",
       "      <td>0</td>\n",
       "      <td>18</td>\n",
       "      <td>11</td>\n",
       "      <td>30-39</td>\n",
       "      <td>0-2.99</td>\n",
       "      <td>small1</td>\n",
       "      <td>0</td>\n",
       "    </tr>\n",
       "    <tr>\n",
       "      <th>...</th>\n",
       "      <td>...</td>\n",
       "      <td>...</td>\n",
       "      <td>...</td>\n",
       "      <td>...</td>\n",
       "      <td>...</td>\n",
       "      <td>...</td>\n",
       "      <td>...</td>\n",
       "      <td>...</td>\n",
       "      <td>...</td>\n",
       "      <td>...</td>\n",
       "      <td>...</td>\n",
       "      <td>...</td>\n",
       "      <td>...</td>\n",
       "      <td>...</td>\n",
       "      <td>...</td>\n",
       "    </tr>\n",
       "    <tr>\n",
       "      <th>1048562</th>\n",
       "      <td>C8020229</td>\n",
       "      <td>1990-08-04</td>\n",
       "      <td>DELHI</td>\n",
       "      <td>-0.120335</td>\n",
       "      <td>2016-09-18</td>\n",
       "      <td>-0.106367</td>\n",
       "      <td>31</td>\n",
       "      <td>9</td>\n",
       "      <td>1</td>\n",
       "      <td>18</td>\n",
       "      <td>48</td>\n",
       "      <td>30-39</td>\n",
       "      <td>0-2.99</td>\n",
       "      <td>small1</td>\n",
       "      <td>0</td>\n",
       "    </tr>\n",
       "    <tr>\n",
       "      <th>1048563</th>\n",
       "      <td>C6459278</td>\n",
       "      <td>1992-02-20</td>\n",
       "      <td>NASHIK</td>\n",
       "      <td>-0.096281</td>\n",
       "      <td>2016-09-18</td>\n",
       "      <td>-0.161578</td>\n",
       "      <td>29</td>\n",
       "      <td>9</td>\n",
       "      <td>1</td>\n",
       "      <td>18</td>\n",
       "      <td>37</td>\n",
       "      <td>20-29</td>\n",
       "      <td>0-2.99</td>\n",
       "      <td>small1</td>\n",
       "      <td>0</td>\n",
       "    </tr>\n",
       "    <tr>\n",
       "      <th>1048564</th>\n",
       "      <td>C6412354</td>\n",
       "      <td>1989-05-18</td>\n",
       "      <td>HYDERABAD</td>\n",
       "      <td>0.141417</td>\n",
       "      <td>2016-09-18</td>\n",
       "      <td>-0.111090</td>\n",
       "      <td>32</td>\n",
       "      <td>9</td>\n",
       "      <td>1</td>\n",
       "      <td>18</td>\n",
       "      <td>33</td>\n",
       "      <td>30-39</td>\n",
       "      <td>0-2.99</td>\n",
       "      <td>small1</td>\n",
       "      <td>0</td>\n",
       "    </tr>\n",
       "    <tr>\n",
       "      <th>1048565</th>\n",
       "      <td>C6420483</td>\n",
       "      <td>1978-08-30</td>\n",
       "      <td>VISAKHAPATNAM</td>\n",
       "      <td>-0.117300</td>\n",
       "      <td>2016-09-18</td>\n",
       "      <td>-0.073632</td>\n",
       "      <td>43</td>\n",
       "      <td>9</td>\n",
       "      <td>1</td>\n",
       "      <td>18</td>\n",
       "      <td>47</td>\n",
       "      <td>40-49</td>\n",
       "      <td>0-2.99</td>\n",
       "      <td>small1</td>\n",
       "      <td>0</td>\n",
       "    </tr>\n",
       "    <tr>\n",
       "      <th>1048566</th>\n",
       "      <td>C8337524</td>\n",
       "      <td>1984-05-03</td>\n",
       "      <td>PUNE</td>\n",
       "      <td>-0.037087</td>\n",
       "      <td>2016-09-18</td>\n",
       "      <td>-0.046596</td>\n",
       "      <td>37</td>\n",
       "      <td>9</td>\n",
       "      <td>1</td>\n",
       "      <td>18</td>\n",
       "      <td>12</td>\n",
       "      <td>30-39</td>\n",
       "      <td>0-2.99</td>\n",
       "      <td>small1</td>\n",
       "      <td>0</td>\n",
       "    </tr>\n",
       "  </tbody>\n",
       "</table>\n",
       "<p>984999 rows × 15 columns</p>\n",
       "</div>"
      ],
      "text/plain": [
       "        CustomerID CustomerDOB   CustLocation  CustAccountBalance  \\\n",
       "0         C5841053  1994-10-01     JAMSHEDPUR           -0.107885   \n",
       "1         C2142763  1957-04-04        JHAJJAR           -0.126892   \n",
       "2         C4417068  1996-11-26         MUMBAI           -0.107818   \n",
       "3         C5342380  1973-09-14         MUMBAI            0.929583   \n",
       "4         C9031234  1988-03-24         MUMBAI           -0.121460   \n",
       "...            ...         ...            ...                 ...   \n",
       "1048562   C8020229  1990-08-04          DELHI           -0.120335   \n",
       "1048563   C6459278  1992-02-20         NASHIK           -0.096281   \n",
       "1048564   C6412354  1989-05-18      HYDERABAD            0.141417   \n",
       "1048565   C6420483  1978-08-30  VISAKHAPATNAM           -0.117300   \n",
       "1048566   C8337524  1984-05-03           PUNE           -0.037087   \n",
       "\n",
       "        TransactionDate  TransactionAmount (INR)  CustomerAge  \\\n",
       "0            2016-08-02                -0.232423           27   \n",
       "1            2016-08-02                 4.323506           64   \n",
       "2            2016-08-02                -0.161741           25   \n",
       "3            2016-08-02                 0.099003           48   \n",
       "4            2016-08-02                 0.050551           33   \n",
       "...                 ...                      ...          ...   \n",
       "1048562      2016-09-18                -0.106367           31   \n",
       "1048563      2016-09-18                -0.161578           29   \n",
       "1048564      2016-09-18                -0.111090           32   \n",
       "1048565      2016-09-18                -0.073632           43   \n",
       "1048566      2016-09-18                -0.046596           37   \n",
       "\n",
       "         TransactionMonth  M  TransactionTime(hr)  TransactionTime(min)  \\\n",
       "0                       8  0                   14                    32   \n",
       "1                       8  1                   14                    18   \n",
       "2                       8  0                   14                    27   \n",
       "3                       8  0                   14                    27   \n",
       "4                       8  0                   18                    11   \n",
       "...                   ... ..                  ...                   ...   \n",
       "1048562                 9  1                   18                    48   \n",
       "1048563                 9  1                   18                    37   \n",
       "1048564                 9  1                   18                    33   \n",
       "1048565                 9  1                   18                    47   \n",
       "1048566                 9  1                   18                    12   \n",
       "\n",
       "        AgeRange TransactionRange(L) TransactionType  AM  \n",
       "0          20-29              0-2.99          small1   0  \n",
       "1          60-69              0-2.99          small1   0  \n",
       "2          20-29              0-2.99          small1   0  \n",
       "3          40-49              0-2.99          small1   0  \n",
       "4          30-39              0-2.99          small1   0  \n",
       "...          ...                 ...             ...  ..  \n",
       "1048562    30-39              0-2.99          small1   0  \n",
       "1048563    20-29              0-2.99          small1   0  \n",
       "1048564    30-39              0-2.99          small1   0  \n",
       "1048565    40-49              0-2.99          small1   0  \n",
       "1048566    30-39              0-2.99          small1   0  \n",
       "\n",
       "[984999 rows x 15 columns]"
      ]
     },
     "execution_count": 101,
     "metadata": {},
     "output_type": "execute_result"
    }
   ],
   "source": [
    "scaled_df"
   ]
  },
  {
   "cell_type": "code",
   "execution_count": 103,
   "id": "158e8859",
   "metadata": {},
   "outputs": [
    {
     "data": {
      "text/plain": [
       "(984999, 15)"
      ]
     },
     "execution_count": 103,
     "metadata": {},
     "output_type": "execute_result"
    }
   ],
   "source": [
    "df.shape"
   ]
  },
  {
   "cell_type": "code",
   "execution_count": null,
   "id": "9bb03e57",
   "metadata": {},
   "outputs": [],
   "source": [
    "df.to_csv('unscaled.csv')\n",
    "scaled_df.to_csv('scaled.csv')"
   ]
  },
  {
   "cell_type": "markdown",
   "id": "4074e9a0",
   "metadata": {},
   "source": [
    "After the data had been cleaned there were 11 features. After data transformation the dataset now has 15 features. Some were added and some were removed. Two dataframes are available here. One is scaled and the other one is unscaled."
   ]
  }
 ],
 "metadata": {
  "kernelspec": {
   "display_name": "Python 3",
   "language": "python",
   "name": "python3"
  },
  "language_info": {
   "codemirror_mode": {
    "name": "ipython",
    "version": 3
   },
   "file_extension": ".py",
   "mimetype": "text/x-python",
   "name": "python",
   "nbconvert_exporter": "python",
   "pygments_lexer": "ipython3",
   "version": "3.8.8"
  }
 },
 "nbformat": 4,
 "nbformat_minor": 5
}
